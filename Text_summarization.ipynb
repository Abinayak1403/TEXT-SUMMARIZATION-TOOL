{
  "nbformat": 4,
  "nbformat_minor": 0,
  "metadata": {
    "colab": {
      "provenance": []
    },
    "kernelspec": {
      "name": "python3",
      "display_name": "Python 3"
    },
    "language_info": {
      "name": "python"
    }
  },
  "cells": [
    {
      "cell_type": "code",
      "source": [
        "import warnings\n",
        "warnings.filterwarnings(\"ignore\", category=UserWarning)\n"
      ],
      "metadata": {
        "id": "dHPV3q9s9BUB"
      },
      "execution_count": null,
      "outputs": []
    },
    {
      "cell_type": "code",
      "source": [
        "# Import required libraries\n",
        "from transformers import pipeline\n",
        "import textwrap\n",
        "\n",
        "def load_article_from_file(file_path):\n",
        "    \"\"\"Load text from a given .txt file\"\"\"\n",
        "    try:\n",
        "        with open(file_path, 'r', encoding='utf-8') as file:\n",
        "            return file.read()\n",
        "    except FileNotFoundError:\n",
        "        print(\"❌ File not found.\")\n",
        "        return None\n",
        "\n",
        "def summarize_text(text, max_len=130, min_len=30):\n",
        "    \"\"\"Summarizes the input text using Hugging Face transformers.\"\"\"\n",
        "    try:\n",
        "        summarizer = pipeline(\"summarization\", model=\"facebook/bart-large-cnn\")\n",
        "        summary = summarizer(text, max_length=max_len, min_length=min_len, do_sample=False)\n",
        "        return summary[0]['summary_text']\n",
        "    except Exception as e:\n",
        "        return f\"❌ Error in summarization: {str(e)}\"\n",
        "\n",
        "def display_summary(original, summary):\n",
        "    print(\"\\n📄 Original Text:\\n\")\n",
        "    print(textwrap.fill(original, width=100))\n",
        "    print(\"\\n✂️ Summary:\\n\")\n",
        "    print(textwrap.fill(summary, width=100))\n",
        "    print(\"\\n📊 Stats:\")\n",
        "    print(f\"Original Length: {len(original.split())} words\")\n",
        "    print(f\"Summary Length: {len(summary.split())} words\")\n",
        "\n",
        "def main():\n",
        "    print(\"🔍 AI Article Summarizer\\n\")\n",
        "\n",
        "    choice = input(\"Enter '1' to type/paste text or '2' to summarize from a .txt file: \")\n",
        "\n",
        "    if choice == '1':\n",
        "        print(\"\\nPaste your article below (end with Enter twice):\")\n",
        "        lines = []\n",
        "        while True:\n",
        "            line = input()\n",
        "            if line == \"\":\n",
        "                break\n",
        "            lines.append(line)\n",
        "        article = \" \".join(lines)\n",
        "    elif choice == '2':\n",
        "        path = input(\"Enter the file path: \")\n",
        "        article = load_article_from_file(path)\n",
        "        if article is None:\n",
        "            return\n",
        "    else:\n",
        "        print(\"❌ Invalid choice.\")\n",
        "        return\n",
        "\n",
        "    print(\"\\n🧠 Generating summary...\")\n",
        "    summary = summarize_text(article)\n",
        "    display_summary(article, summary)\n",
        "\n",
        "if __name__ == \"__main__\":\n",
        "    main()\n"
      ],
      "metadata": {
        "colab": {
          "base_uri": "https://localhost:8080/"
        },
        "id": "f1mRq1467b47",
        "outputId": "e8edd06f-7497-49af-feec-e3d7e8d16447"
      },
      "execution_count": null,
      "outputs": [
        {
          "output_type": "stream",
          "name": "stdout",
          "text": [
            "🔍 AI Article Summarizer\n",
            "\n",
            "Enter '1' to type/paste text or '2' to summarize from a .txt file: 2\n",
            "Enter the file path: /content/sample_article.txt\n",
            "\n",
            "🧠 Generating summary...\n"
          ]
        },
        {
          "output_type": "stream",
          "name": "stderr",
          "text": [
            "Device set to use cpu\n",
            "Your max_length is set to 130, but your input_length is only 90. Since this is a summarization task, where outputs shorter than the input are typically wanted, you might consider decreasing max_length manually, e.g. summarizer('...', max_length=45)\n"
          ]
        },
        {
          "output_type": "stream",
          "name": "stdout",
          "text": [
            "\n",
            "📄 Original Text:\n",
            "\n",
            " Artificial Intelligence (AI) is transforming the world across industries.  From self-driving cars\n",
            "to personalized medicine, AI is enhancing human capabilities,  streamlining processes, and\n",
            "uncovering insights from massive amounts of data.  As the technology advances, ethical\n",
            "considerations and responsible usage become increasingly important.  This article explores the\n",
            "impact of AI, its real-world applications, and what the future may hold.\n",
            "\n",
            "✂️ Summary:\n",
            "\n",
            "Artificial Intelligence (AI) is transforming the world across industries. From self-driving cars to\n",
            "personalized medicine, AI is enhancing human capabilities. As the technology advances, ethical\n",
            "considerations and responsible usage become increasingly important.\n",
            "\n",
            "📊 Stats:\n",
            "Original Length: 58 words\n",
            "Summary Length: 32 words\n"
          ]
        }
      ]
    }
  ]
}